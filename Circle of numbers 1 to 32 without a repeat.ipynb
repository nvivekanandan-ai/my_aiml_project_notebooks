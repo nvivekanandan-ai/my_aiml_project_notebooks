{
 "cells": [
  {
   "cell_type": "code",
   "execution_count": 1,
   "metadata": {},
   "outputs": [],
   "source": [
    "l = list(range(1,33))\n",
    "squared_numbers = [4, 9, 16, 25,36, 49]"
   ]
  },
  {
   "cell_type": "code",
   "execution_count": 2,
   "metadata": {},
   "outputs": [],
   "source": [
    "def my_add(n, my_list, answer):\n",
    "    if not my_list:\n",
    "        return (answer[0] + answer[-1]) in squared_numbers\n",
    "    added = False\n",
    "    for i in range(0, len(squared_numbers)):\n",
    "        x = squared_numbers[i] - n\n",
    "        if x < 1:\n",
    "            continue\n",
    "        if x in my_list:\n",
    "            my_list.remove(x)\n",
    "            answer.append(x)\n",
    "            added = my_add(x, my_list, answer)\n",
    "            if not added:\n",
    "                answer.remove(x)\n",
    "                my_list.append(x)\n",
    "    return added "
   ]
  },
  {
   "cell_type": "code",
   "execution_count": 3,
   "metadata": {},
   "outputs": [],
   "source": [
    "answer = []\n",
    "element = l.pop(0)\n",
    "answer.append(element)"
   ]
  },
  {
   "cell_type": "code",
   "execution_count": 4,
   "metadata": {},
   "outputs": [
    {
     "name": "stdout",
     "output_type": "stream",
     "text": [
      "[1, 8, 28, 21, 4, 32, 17, 19, 30, 6, 3, 13, 12, 24, 25, 11, 5, 31, 18, 7, 29, 20, 16, 9, 27, 22, 14, 2, 23, 26, 10, 15]\n"
     ]
    }
   ],
   "source": [
    "my_add(element, l, answer)\n",
    "print(answer)"
   ]
  }
 ],
 "metadata": {
  "kernelspec": {
   "display_name": "Python 3",
   "language": "python",
   "name": "python3"
  },
  "language_info": {
   "codemirror_mode": {
    "name": "ipython",
    "version": 3
   },
   "file_extension": ".py",
   "mimetype": "text/x-python",
   "name": "python",
   "nbconvert_exporter": "python",
   "pygments_lexer": "ipython3",
   "version": "3.8.5"
  }
 },
 "nbformat": 4,
 "nbformat_minor": 4
}
