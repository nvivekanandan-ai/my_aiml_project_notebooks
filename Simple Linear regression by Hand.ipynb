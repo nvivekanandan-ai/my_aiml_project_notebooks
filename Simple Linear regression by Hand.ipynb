{
 "cells": [
  {
   "cell_type": "markdown",
   "metadata": {},
   "source": [
    "y = a + bx\n",
    "b = r * std dev y / std dev x (r is pearson's correlation coefficient)\n",
    "a = y mean - b * x mean\n",
    "r = sum ((x-x mean) * (y-y mean)) /  sqrt ((sum(x - x mean)**2) * ((sum (y - y mean)**2)))\n",
    "so r = cov (x,y) / var (x) (not used below)"
   ]
  },
  {
   "cell_type": "code",
   "execution_count": 1,
   "metadata": {},
   "outputs": [],
   "source": [
    "import numpy as np"
   ]
  },
  {
   "cell_type": "code",
   "execution_count": 2,
   "metadata": {},
   "outputs": [],
   "source": [
    "x = [17, 13, 12, 15, 16, 14, 16, 16, 18, 19]\n",
    "y = [94, 73, 59, 80, 93, 85, 66, 79, 77, 91]"
   ]
  },
  {
   "cell_type": "code",
   "execution_count": 3,
   "metadata": {},
   "outputs": [
    {
     "name": "stdout",
     "output_type": "stream",
     "text": [
      "15.6\n"
     ]
    }
   ],
   "source": [
    "xmean = np.mean(x)\n",
    "print(xmean)"
   ]
  },
  {
   "cell_type": "code",
   "execution_count": 4,
   "metadata": {},
   "outputs": [
    {
     "name": "stdout",
     "output_type": "stream",
     "text": [
      "79.7\n"
     ]
    }
   ],
   "source": [
    "ymean = np.mean(y)\n",
    "print(ymean)"
   ]
  },
  {
   "cell_type": "code",
   "execution_count": 5,
   "metadata": {},
   "outputs": [],
   "source": [
    "def sub(lista, no):\n",
    "    new = []\n",
    "    for x in lista:\n",
    "        new.append(x-no)\n",
    "    return new"
   ]
  },
  {
   "cell_type": "code",
   "execution_count": 6,
   "metadata": {},
   "outputs": [
    {
     "name": "stdout",
     "output_type": "stream",
     "text": [
      "[1.4000000000000004, -2.5999999999999996, -3.5999999999999996, -0.5999999999999996, 0.40000000000000036, -1.5999999999999996, 0.40000000000000036, 0.40000000000000036, 2.4000000000000004, 3.4000000000000004]\n"
     ]
    }
   ],
   "source": [
    "x_xmean = sub(x,xmean)\n",
    "print(x_xmean)"
   ]
  },
  {
   "cell_type": "code",
   "execution_count": 7,
   "metadata": {},
   "outputs": [
    {
     "name": "stdout",
     "output_type": "stream",
     "text": [
      "range(0, 9)\n"
     ]
    }
   ],
   "source": [
    "print(range(len(x_xmean)-1))"
   ]
  },
  {
   "cell_type": "code",
   "execution_count": 8,
   "metadata": {},
   "outputs": [
    {
     "name": "stdout",
     "output_type": "stream",
     "text": [
      "[14.299999999999997, -6.700000000000003, -20.700000000000003, 0.29999999999999716, 13.299999999999997, 5.299999999999997, -13.700000000000003, -0.7000000000000028, -2.700000000000003, 11.299999999999997]\n"
     ]
    }
   ],
   "source": [
    "y_ymean = sub(y,ymean)\n",
    "print(y_ymean)"
   ]
  },
  {
   "cell_type": "code",
   "execution_count": 9,
   "metadata": {},
   "outputs": [],
   "source": [
    "def r_num (list1, list2):\n",
    "    sum = 0.0\n",
    "    for i in range(len(list1)):\n",
    "        sum = sum + list1[i]*list2[i]\n",
    "    return sum"
   ]
  },
  {
   "cell_type": "code",
   "execution_count": 10,
   "metadata": {},
   "outputs": [
    {
     "name": "stdout",
     "output_type": "stream",
     "text": [
      "134.8\n"
     ]
    }
   ],
   "source": [
    "numerator = r_num (x_xmean, y_ymean)\n",
    "print(numerator)"
   ]
  },
  {
   "cell_type": "code",
   "execution_count": 11,
   "metadata": {},
   "outputs": [],
   "source": [
    "denominator = np.sqrt((r_num(x_xmean, x_xmean)) * (r_num(y_ymean, y_ymean)))"
   ]
  },
  {
   "cell_type": "code",
   "execution_count": 12,
   "metadata": {},
   "outputs": [
    {
     "name": "stdout",
     "output_type": "stream",
     "text": [
      "0.5960947613894625\n"
     ]
    }
   ],
   "source": [
    "r = numerator / denominator\n",
    "print(r)"
   ]
  },
  {
   "cell_type": "code",
   "execution_count": 13,
   "metadata": {},
   "outputs": [
    {
     "name": "stdout",
     "output_type": "stream",
     "text": [
      "3.1792452830188687\n"
     ]
    }
   ],
   "source": [
    "b = r * np.std(y) / np.std(x)\n",
    "print(b)"
   ]
  },
  {
   "cell_type": "code",
   "execution_count": 14,
   "metadata": {},
   "outputs": [
    {
     "name": "stdout",
     "output_type": "stream",
     "text": [
      "30.103773584905653\n"
     ]
    }
   ],
   "source": [
    "a = ymean - b * xmean\n",
    "print(a)"
   ]
  },
  {
   "cell_type": "markdown",
   "metadata": {},
   "source": [
    "### y = 30.104 + 3.179 x is line of regression or trend"
   ]
  }
 ],
 "metadata": {
  "kernelspec": {
   "display_name": "Python 3",
   "language": "python",
   "name": "python3"
  },
  "language_info": {
   "codemirror_mode": {
    "name": "ipython",
    "version": 3
   },
   "file_extension": ".py",
   "mimetype": "text/x-python",
   "name": "python",
   "nbconvert_exporter": "python",
   "pygments_lexer": "ipython3",
   "version": "3.8.5"
  }
 },
 "nbformat": 4,
 "nbformat_minor": 4
}
