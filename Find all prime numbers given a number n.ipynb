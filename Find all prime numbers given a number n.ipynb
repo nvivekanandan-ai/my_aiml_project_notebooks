{
 "cells": [
  {
   "cell_type": "code",
   "execution_count": 1,
   "metadata": {},
   "outputs": [
    {
     "name": "stdout",
     "output_type": "stream",
     "text": [
      "[2, 3, 5, 7, 11, 13]\n"
     ]
    }
   ],
   "source": [
    "#O(n^2) algorthom\n",
    "def find_primes (n):\n",
    "    list = []\n",
    "    for i in range (2, n + 1):\n",
    "        for j in range (2, i):\n",
    "            if (i % j) == 0:\n",
    "                break  \n",
    "        else:\n",
    "            list.append(i)\n",
    "    return list\n",
    "                \n",
    "#Test a small set\n",
    "print(find_primes(15))\n",
    "        "
   ]
  },
  {
   "cell_type": "code",
   "execution_count": 2,
   "metadata": {},
   "outputs": [
    {
     "name": "stdout",
     "output_type": "stream",
     "text": [
      "[2, 3, 5, 7, 11, 13]\n"
     ]
    }
   ],
   "source": [
    "#O(n^(3/2)) algortithm\n",
    "import numpy as np\n",
    "def find_primes (n):\n",
    "    list = []\n",
    "    for i in range (2, n + 1):  \n",
    "        for j in range (2, int(np.sqrt(i)+1)):\n",
    "            if (i % j) == 0:\n",
    "                break  \n",
    "        else:\n",
    "            list.append(i)\n",
    "    return list\n",
    "                \n",
    "#Test a small set\n",
    "print(find_primes(15))"
   ]
  },
  {
   "cell_type": "code",
   "execution_count": null,
   "metadata": {},
   "outputs": [],
   "source": []
  }
 ],
 "metadata": {
  "kernelspec": {
   "display_name": "Python 3",
   "language": "python",
   "name": "python3"
  },
  "language_info": {
   "codemirror_mode": {
    "name": "ipython",
    "version": 3
   },
   "file_extension": ".py",
   "mimetype": "text/x-python",
   "name": "python",
   "nbconvert_exporter": "python",
   "pygments_lexer": "ipython3",
   "version": "3.8.5"
  }
 },
 "nbformat": 4,
 "nbformat_minor": 4
}
